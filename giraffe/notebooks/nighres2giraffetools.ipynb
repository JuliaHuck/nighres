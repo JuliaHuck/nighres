{
 "cells": [
  {
   "cell_type": "code",
   "execution_count": 1,
   "metadata": {},
   "outputs": [],
   "source": [
    "import json\n",
    "from nipype2json import node2json\n",
    "import os.path as op\n",
    "from importlib import import_module\n",
    "from math import sin, cos, pi, floor\n",
    "from copy import deepcopy\n",
    "import nighres\n",
    "import nipype"
   ]
  },
  {
   "cell_type": "code",
   "execution_count": 2,
   "metadata": {},
   "outputs": [],
   "source": [
    "def filter_nodes(node_list):\n",
    "    excluded_nodes = ['BaseInterface']\n",
    "    node_list = [n for n in node_list if hasattr(n, '__name__')\n",
    "                 and not n.__name__.endswith('Command')\n",
    "                 and n.__name__ not in excluded_nodes\n",
    "                 and hasattr(n, 'input_spec')]\n",
    "    return node_list\n",
    "\n",
    "\n",
    "def get_rainbow_color(index):\n",
    "    r = floor(sin(pi * index + 0 * pi / 3) * 63) + 128;\n",
    "    g = floor(sin(pi * index + 2 * pi / 3) * 63) + 128;\n",
    "    b = floor(sin(pi * index + 4 * pi / 3) * 63) + 128;\n",
    "    return '#%02x%02x%02x' % (r, g, b)\n",
    "\n",
    "\n",
    "def add_to_dictionary(node, dictionary, category_list):\n",
    "    if len(category_list) is 0:\n",
    "        if not 'nodes' in dictionary.keys():\n",
    "            dictionary['nodes'] = []\n",
    "        dictionary['nodes'].append(node)\n",
    "        return\n",
    "    if not 'categories' in dictionary.keys():\n",
    "        dictionary['categories'] = []\n",
    "    category_name = category_list.pop(0)\n",
    "    existing_category = [category for category in dictionary['categories'] if category['name'] == category_name]\n",
    "    if len(existing_category) is 0:\n",
    "        new_category = { 'name': category_name }\n",
    "        add_to_dictionary(node, new_category, category_list)\n",
    "        dictionary['categories'].append(new_category)\n",
    "    else:\n",
    "        add_to_dictionary(node, existing_category[0], category_list)\n",
    "    dictionary['categories'] = sorted(dictionary['categories'], reverse=False, key=lambda p: p['name'])\n",
    "\n",
    "\n",
    "def insert_colours(sorted_nodes, colour_index, colour_spacing):\n",
    "    sorted_nodes['colour'] = get_rainbow_color(colour_index)\n",
    "    if 'categories' in sorted_nodes.keys() and sorted_nodes['categories']:\n",
    "        colour_spacing /= len(sorted_nodes['categories'])\n",
    "        for index, category in enumerate(sorted_nodes['categories']):\n",
    "            insert_colours(category, colour_index + index * colour_spacing, colour_spacing)"
   ]
  },
  {
   "cell_type": "code",
   "execution_count": 4,
   "metadata": {},
   "outputs": [],
   "source": [
    "interface_modules = ['brain', 'cortex', 'filtering', 'intensity', 'io', 'laminar',\n",
    "                    'microscopy', 'registration', 'shape', 'statistics', 'surface']\n",
    "interface_modules = ['nighres.' + m for m in interface_modules]\n",
    "\n",
    "dictionary = {}\n",
    "for index, class_name in enumerate(interface_modules):\n",
    "    module = import_module(class_name+'.nipype_wrappers')\n",
    "    module_name = module.__name__\n",
    "\n",
    "    node_list = [getattr(module, n) for n in dir(module) if n[0].isupper() or n[0].isdigit()]\n",
    "    node_list = filter_nodes(node_list)\n",
    "    nodes = [node2json(node, module=class_name) for node in node_list]\n",
    "    [add_to_dictionary(node, dictionary, deepcopy(node['category'])) for node in nodes]\n",
    "    \n",
    "insert_colours(dictionary, 0.0, 1.0)\n",
    "toolboxes = [{\n",
    "    'name': \"Nighres\",\n",
    "    'categories': dictionary['categories'],\n",
    "}]"
   ]
  },
  {
   "cell_type": "code",
   "execution_count": 6,
   "metadata": {},
   "outputs": [],
   "source": [
    "with open('nighres_nodes.json', 'w') as outfile:\n",
    "    # json.dump({'toolboxes': toolboxes}, outfile, sort_keys=False, indent=2)\n",
    "    json.dump({'toolboxes': toolboxes}, outfile, separators=(',', ':'))"
   ]
  },
  {
   "cell_type": "code",
   "execution_count": null,
   "metadata": {},
   "outputs": [],
   "source": []
  }
 ],
 "metadata": {
  "kernelspec": {
   "display_name": "Python 3",
   "language": "python",
   "name": "python3"
  },
  "language_info": {
   "codemirror_mode": {
    "name": "ipython",
    "version": 3
   },
   "file_extension": ".py",
   "mimetype": "text/x-python",
   "name": "python",
   "nbconvert_exporter": "python",
   "pygments_lexer": "ipython3",
   "version": "3.6.7"
  }
 },
 "nbformat": 4,
 "nbformat_minor": 2
}
